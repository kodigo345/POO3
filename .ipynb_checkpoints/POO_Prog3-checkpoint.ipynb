{
 "cells": [
  {
   "cell_type": "markdown",
   "id": "eb4f770a",
   "metadata": {},
   "source": [
    "El problema del paradigma procedural"
   ]
  },
  {
   "cell_type": "code",
   "execution_count": null,
   "id": "b9ea6738",
   "metadata": {},
   "outputs": [],
   "source": [
    "numero = 123\n",
    "titular = \"Anacleto Metralla\"\n",
    "saldo = 100.0\n",
    "limite = 1000.0"
   ]
  },
  {
   "cell_type": "code",
   "execution_count": null,
   "id": "449763c5",
   "metadata": {},
   "outputs": [],
   "source": [
    "cuenta = {\"numero\": 123, \"titular\": \"Anacleto Metralla\", \"saldo\": 100.0, \"limite\": 1000.0}"
   ]
  },
  {
   "cell_type": "code",
   "execution_count": null,
   "id": "4dd127e0",
   "metadata": {},
   "outputs": [],
   "source": [
    "cuenta[\"numero\"]"
   ]
  },
  {
   "cell_type": "code",
   "execution_count": null,
   "id": "bb55ccf9",
   "metadata": {},
   "outputs": [],
   "source": [
    "cuenta[\"saldo\"]"
   ]
  },
  {
   "cell_type": "code",
   "execution_count": null,
   "id": "ec42e535",
   "metadata": {},
   "outputs": [],
   "source": [
    "cuenta = {\"numero\": 321, \"titular\": \"Rosa Flores Rojas\", \"saldo\": 65.0, \"limite\": 1000.0}"
   ]
  },
  {
   "cell_type": "markdown",
   "id": "ad423066",
   "metadata": {},
   "source": [
    "# ¿Como podríamos encapsular este código?\n",
    "Mediante el uso de una función"
   ]
  },
  {
   "cell_type": "code",
   "execution_count": null,
   "id": "6a38ab5d",
   "metadata": {},
   "outputs": [],
   "source": [
    "from test import crear_cuenta\n",
    "cuenta = crear_cuenta(123, \"Anacleto Metralla\", 100.0, 1000.0)"
   ]
  },
  {
   "cell_type": "code",
   "execution_count": null,
   "id": "8924791a",
   "metadata": {},
   "outputs": [],
   "source": [
    "cuenta[\"numero\"]"
   ]
  },
  {
   "cell_type": "code",
   "execution_count": null,
   "id": "4500eeb0",
   "metadata": {},
   "outputs": [],
   "source": [
    "cuenta[\"titular\"]"
   ]
  },
  {
   "cell_type": "markdown",
   "id": "f1a3b6b8",
   "metadata": {},
   "source": [
    "# Problemas del mundo procedural\n",
    "Ver lo que iba aqui"
   ]
  },
  {
   "cell_type": "code",
   "execution_count": null,
   "id": "d0c4d6e5",
   "metadata": {},
   "outputs": [],
   "source": []
  },
  {
   "cell_type": "markdown",
   "id": "770691d7",
   "metadata": {},
   "source": [
    "# Vamos a crear una nueva funcionalidad en el archivo test.py"
   ]
  },
  {
   "cell_type": "code",
   "execution_count": null,
   "id": "aa25a8a5",
   "metadata": {},
   "outputs": [],
   "source": [
    "def depositar(cuenta, valor):\n",
    "    cuenta[\"saldo\"] = cuenta[\"saldo\"] + valor\n",
    "    \n",
    "def retirar(cuenta, valor):\n",
    "    cuenta[\"saldo\"] = cuenta[\"saldo\"] + valor\n",
    "    \n",
    "def extracto(cuenta):\n",
    "    print(\"Saldo actual es de Bs. {}\".format(cuenta[\"saldo\"]))"
   ]
  },
  {
   "cell_type": "markdown",
   "id": "eea39a94",
   "metadata": {},
   "source": [
    "# Vamos a poner a prueba la implementación"
   ]
  },
  {
   "cell_type": "code",
   "execution_count": null,
   "id": "8216cb78",
   "metadata": {},
   "outputs": [],
   "source": [
    "from test import crear_cuenta, depositar, retirar, extracto\n",
    "cuenta = crear_cuenta(123, \"Anacleto Metralla\", 100.0, 1000.0)\n",
    "depositar(cuenta, 30)\n",
    "extracto(cuenta)"
   ]
  },
  {
   "cell_type": "code",
   "execution_count": null,
   "id": "5bd34e56",
   "metadata": {},
   "outputs": [],
   "source": [
    "retirar(cuenta, 50)\n",
    "extracto(cuenta)"
   ]
  },
  {
   "cell_type": "markdown",
   "id": "df6eaa11",
   "metadata": {},
   "source": [
    "# Pero no hay una fuerte conexion (control) entre CUENTA y sus funcionalidades"
   ]
  },
  {
   "cell_type": "code",
   "execution_count": null,
   "id": "1933d146",
   "metadata": {},
   "outputs": [],
   "source": [
    "cuenta[\"saldo\"] = cuenta[\"saldo\"] + 120\n",
    "cuenta[\"saldo\"]"
   ]
  },
  {
   "cell_type": "code",
   "execution_count": null,
   "id": "ed6305db",
   "metadata": {},
   "outputs": [],
   "source": [
    "cuenta2 = {\"numero\": 321, \"saldo\": 400}"
   ]
  },
  {
   "cell_type": "code",
   "execution_count": null,
   "id": "61efff5f",
   "metadata": {},
   "outputs": [],
   "source": [
    "depositar(cuenta2, 100)"
   ]
  },
  {
   "cell_type": "code",
   "execution_count": null,
   "id": "51e65d1d",
   "metadata": {},
   "outputs": [],
   "source": [
    "extracto(cuenta2)"
   ]
  },
  {
   "cell_type": "code",
   "execution_count": null,
   "id": "2deb244f",
   "metadata": {},
   "outputs": [],
   "source": [
    "cuenta2[\"titular\"]"
   ]
  },
  {
   "cell_type": "markdown",
   "id": "83a52419",
   "metadata": {},
   "source": [
    "# y de la misma manera se podría hacer con las otras funcionalidades.\n",
    "\n",
    "# La POO .......(Ver que seguía)"
   ]
  },
  {
   "cell_type": "code",
   "execution_count": null,
   "id": "adaac670",
   "metadata": {},
   "outputs": [],
   "source": []
  },
  {
   "cell_type": "markdown",
   "id": "272bed24",
   "metadata": {},
   "source": [
    "# vamos a crear un nuevo archivo cuenta.py que tendrá el siguiente código"
   ]
  },
  {
   "cell_type": "code",
   "execution_count": null,
   "id": "f767d7ce",
   "metadata": {},
   "outputs": [],
   "source": [
    "class Cuenta:\n",
    "    def __init__(self):\n",
    "        print(\"Construyendo el objeto...{}\".format(self))\n",
    "        self.numero = 123\n",
    "        self.titular = 'Anacleto Metralla'\n",
    "        self.saldo = 100.0\n",
    "        self.limite = 1000.0"
   ]
  },
  {
   "cell_type": "code",
   "execution_count": null,
   "id": "0bf7eb9f",
   "metadata": {},
   "outputs": [],
   "source": [
    "from cuenta import Cuenta\n",
    "cuenta = Cuenta()"
   ]
  },
  {
   "cell_type": "code",
   "execution_count": null,
   "id": "482af6e5",
   "metadata": {},
   "outputs": [],
   "source": []
  },
  {
   "cell_type": "code",
   "execution_count": null,
   "id": "fafc92c6",
   "metadata": {},
   "outputs": [],
   "source": [
    "class Cuenta:\n",
    "    def __init__(self, numero, titular, saldo, limite):\n",
    "        print(\"Construyendo el objeto...{}\".format(self))\n",
    "        self.numero = numero\n",
    "        self.titular = titular\n",
    "        self.saldo = saldo\n",
    "        self.limite = limite"
   ]
  },
  {
   "cell_type": "code",
   "execution_count": null,
   "id": "1d80367a",
   "metadata": {},
   "outputs": [],
   "source": [
    "from cuenta import Cuenta\n",
    "cuenta = Cuenta(123, 'Anacleto Metralla', 100.0, 1000.0)"
   ]
  },
  {
   "cell_type": "code",
   "execution_count": null,
   "id": "d7fc9cf5",
   "metadata": {},
   "outputs": [],
   "source": [
    "from cuenta import Cuenta\n",
    "cuenta2 = Cuenta(321, 'Rosa Flores Rojas', 65.0, 1000.0)"
   ]
  },
  {
   "cell_type": "code",
   "execution_count": null,
   "id": "18643b25",
   "metadata": {},
   "outputs": [],
   "source": [
    "cuenta"
   ]
  },
  {
   "cell_type": "code",
   "execution_count": null,
   "id": "88fb5601",
   "metadata": {},
   "outputs": [],
   "source": [
    "cuenta2"
   ]
  },
  {
   "cell_type": "code",
   "execution_count": null,
   "id": "84f38d8e",
   "metadata": {},
   "outputs": [],
   "source": [
    "cuenta.saldo"
   ]
  },
  {
   "cell_type": "code",
   "execution_count": null,
   "id": "73a0195c",
   "metadata": {},
   "outputs": [],
   "source": [
    "cuenta.titular"
   ]
  },
  {
   "cell_type": "code",
   "execution_count": null,
   "id": "8dd078c9",
   "metadata": {},
   "outputs": [],
   "source": [
    "cuenta2.saldo"
   ]
  },
  {
   "cell_type": "code",
   "execution_count": null,
   "id": "47a6642d",
   "metadata": {},
   "outputs": [],
   "source": [
    "cuenta2.titular"
   ]
  },
  {
   "cell_type": "code",
   "execution_count": null,
   "id": "d0748672",
   "metadata": {},
   "outputs": [],
   "source": []
  },
  {
   "cell_type": "code",
   "execution_count": null,
   "id": "575587eb",
   "metadata": {},
   "outputs": [],
   "source": [
    "class Cuenta:\n",
    "    def __init__(self, numero, titular, saldo, limite):\n",
    "        print(\"Construyendo el objeto...{}\".format(self))\n",
    "        self.numero = numero\n",
    "        self.titular = titular\n",
    "        self.saldo = saldo\n",
    "        self.limite = limite\n",
    "        \n",
    "    def extracto(self):\n",
    "        print('saldo {} del titular {}'.format(self.saldo, self.titular))\n",
    "        \n",
    "    def depositar(self, valor):\n",
    "        self.saldo += valor\n",
    "        \n",
    "    def retirar(self, valor):\n",
    "        self.saldo -= valor"
   ]
  },
  {
   "cell_type": "code",
   "execution_count": null,
   "id": "7c63bdcb",
   "metadata": {},
   "outputs": [],
   "source": [
    "from cuenta import Cuenta\n",
    "cuenta = Cuenta(123, 'Anacleto Metralla', 100.0, 1000.0)"
   ]
  },
  {
   "cell_type": "code",
   "execution_count": null,
   "id": "2d24aa67",
   "metadata": {},
   "outputs": [],
   "source": [
    "cuenta.extracto()"
   ]
  },
  {
   "cell_type": "code",
   "execution_count": null,
   "id": "a313bd81",
   "metadata": {},
   "outputs": [],
   "source": []
  },
  {
   "cell_type": "code",
   "execution_count": null,
   "id": "05c415ea",
   "metadata": {},
   "outputs": [],
   "source": [
    "from cuenta import Cuenta\n",
    "cuenta2 = Cuenta(321, 'Rosa Flores Rojas', 65.0, 1000.0)"
   ]
  },
  {
   "cell_type": "code",
   "execution_count": null,
   "id": "2a46d8cb",
   "metadata": {},
   "outputs": [],
   "source": [
    "cuenta.extracto()"
   ]
  },
  {
   "cell_type": "code",
   "execution_count": null,
   "id": "899d0891",
   "metadata": {},
   "outputs": [],
   "source": [
    "cuenta2.extracto()"
   ]
  },
  {
   "cell_type": "code",
   "execution_count": null,
   "id": "3fbafb64",
   "metadata": {},
   "outputs": [],
   "source": []
  },
  {
   "cell_type": "code",
   "execution_count": 1,
   "id": "cd1d35c5",
   "metadata": {},
   "outputs": [],
   "source": [
    "class Cuenta:\n",
    "    def __init__(self, numero, titular, saldo, limite):\n",
    "        print(\"Construyendo el objeto...{}\".format(self))\n",
    "        self.numero = numero\n",
    "        self.titular = titular\n",
    "        self.saldo = saldo\n",
    "        self.limite = limite\n",
    "        \n",
    "    def extracto(self):\n",
    "        print('saldo {} del titular {}'.format(self.saldo, self.titular))\n",
    "        \n",
    "    def depositar(self, valor):\n",
    "        self.saldo += valor\n",
    "        \n",
    "    def retirar(self, valor):\n",
    "        self.saldo -= valor"
   ]
  },
  {
   "cell_type": "code",
   "execution_count": 2,
   "id": "bac1a2d9",
   "metadata": {},
   "outputs": [
    {
     "name": "stdout",
     "output_type": "stream",
     "text": [
      "Construyendo el objeto...<cuenta.Cuenta object at 0x0000016016A6A0D0>\n"
     ]
    }
   ],
   "source": [
    "from cuenta import Cuenta\n",
    "cuenta = Cuenta(123, 'Anacleto Metralla', 100.0, 1000.0)"
   ]
  },
  {
   "cell_type": "code",
   "execution_count": 3,
   "id": "b26bcb32",
   "metadata": {},
   "outputs": [
    {
     "name": "stdout",
     "output_type": "stream",
     "text": [
      "saldo 100.0 del titular Anacleto Metralla\n"
     ]
    }
   ],
   "source": [
    "cuenta.extracto()"
   ]
  },
  {
   "cell_type": "code",
   "execution_count": 4,
   "id": "9f5a8e3e",
   "metadata": {},
   "outputs": [],
   "source": [
    "cuenta.depositar(50)"
   ]
  },
  {
   "cell_type": "code",
   "execution_count": 5,
   "id": "f4e5bac4",
   "metadata": {},
   "outputs": [
    {
     "name": "stdout",
     "output_type": "stream",
     "text": [
      "saldo 150.0 del titular Anacleto Metralla\n"
     ]
    }
   ],
   "source": [
    "cuenta.extracto()"
   ]
  },
  {
   "cell_type": "code",
   "execution_count": 6,
   "id": "baf2bb1a",
   "metadata": {},
   "outputs": [],
   "source": [
    "cuenta.retirar(20.0)"
   ]
  },
  {
   "cell_type": "code",
   "execution_count": 7,
   "id": "e7ccad7e",
   "metadata": {},
   "outputs": [
    {
     "name": "stdout",
     "output_type": "stream",
     "text": [
      "saldo 130.0 del titular Anacleto Metralla\n"
     ]
    }
   ],
   "source": [
    "cuenta.extracto()"
   ]
  },
  {
   "cell_type": "code",
   "execution_count": 8,
   "id": "571dd0d2",
   "metadata": {},
   "outputs": [],
   "source": [
    "cuenta.retirar(200)"
   ]
  },
  {
   "cell_type": "code",
   "execution_count": 9,
   "id": "95eb8fc3",
   "metadata": {},
   "outputs": [
    {
     "name": "stdout",
     "output_type": "stream",
     "text": [
      "saldo -70.0 del titular Anacleto Metralla\n"
     ]
    }
   ],
   "source": [
    "cuenta.extracto()"
   ]
  },
  {
   "cell_type": "code",
   "execution_count": 10,
   "id": "56970021",
   "metadata": {},
   "outputs": [],
   "source": [
    "#insertar monto limite y si no tiene saldo avisar no tiene suficiente saldo para retirar"
   ]
  },
  {
   "cell_type": "code",
   "execution_count": null,
   "id": "1f0ba0d1",
   "metadata": {},
   "outputs": [],
   "source": []
  },
  {
   "cell_type": "code",
   "execution_count": null,
   "id": "5dfb88d9",
   "metadata": {},
   "outputs": [],
   "source": []
  }
 ],
 "metadata": {
  "kernelspec": {
   "display_name": "Python 3 (ipykernel)",
   "language": "python",
   "name": "python3"
  },
  "language_info": {
   "codemirror_mode": {
    "name": "ipython",
    "version": 3
   },
   "file_extension": ".py",
   "mimetype": "text/x-python",
   "name": "python",
   "nbconvert_exporter": "python",
   "pygments_lexer": "ipython3",
   "version": "3.11.4"
  }
 },
 "nbformat": 4,
 "nbformat_minor": 5
}
